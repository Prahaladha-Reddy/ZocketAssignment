{
 "cells": [
  {
   "cell_type": "code",
   "execution_count": 1,
   "id": "0a23e006",
   "metadata": {},
   "outputs": [
    {
     "name": "stdout",
     "output_type": "stream",
     "text": [
      "hi\n"
     ]
    }
   ],
   "source": [
    "print('hi')"
   ]
  },
  {
   "cell_type": "code",
   "execution_count": 1,
   "id": "7c17cc3c",
   "metadata": {},
   "outputs": [],
   "source": [
    "from simplesearc import simple_search\n"
   ]
  },
  {
   "cell_type": "code",
   "execution_count": 2,
   "id": "c2cf7fb2",
   "metadata": {},
   "outputs": [],
   "source": [
    "query=\"best shoes in the market\"\n",
    "results=simple_search(query)\n"
   ]
  },
  {
   "cell_type": "code",
   "execution_count": 3,
   "id": "8c2e1e98",
   "metadata": {},
   "outputs": [],
   "source": [
    "links=[link[\"link\"] for  link in results['organic']]\n"
   ]
  },
  {
   "cell_type": "code",
   "execution_count": 4,
   "id": "2c0ec899",
   "metadata": {},
   "outputs": [
    {
     "data": {
      "text/plain": [
       "['https://runrepeat.com/guides/best-sneakers',\n",
       " 'https://www.nike.com/w/best-shoes-76m50zy7ok',\n",
       " 'https://www.runnersworld.com/gear/a19663621/best-running-shoes/',\n",
       " 'https://www.reddit.com/r/Sneakers/comments/1kqz4sk/best_shoes_ive_ever_boughtwhat_are_yours/',\n",
       " 'https://www.verywellfit.com/best-sneakers-7377021']"
      ]
     },
     "execution_count": 4,
     "metadata": {},
     "output_type": "execute_result"
    }
   ],
   "source": [
    "links"
   ]
  },
  {
   "cell_type": "code",
   "execution_count": 8,
   "id": "2fbe9a15",
   "metadata": {},
   "outputs": [],
   "source": [
    "from inital_search_results import *"
   ]
  },
  {
   "cell_type": "code",
   "execution_count": 10,
   "id": "15636fb8",
   "metadata": {},
   "outputs": [],
   "source": [
    "inital_extracted_data=page_extractor(links[0])"
   ]
  },
  {
   "cell_type": "code",
   "execution_count": 11,
   "id": "31f6e09c",
   "metadata": {},
   "outputs": [],
   "source": [
    "from inital_search_results import llm_respond_for_link,llm_for_question_gen\n",
    "question_list=llm_for_question_gen(query,inital_extracted_data['text'])\n"
   ]
  },
  {
   "cell_type": "code",
   "execution_count": 12,
   "id": "c287f749",
   "metadata": {},
   "outputs": [
    {
     "data": {
      "text/plain": [
       "[\"In the RunRepeat testing methodology, how is the 'comfort' of a sneaker, such as the Adidas Ozweego, quantified beyond subjective wear tests?\",\n",
       " \"Regarding the Adidas Samba, what specific criteria define a 'classic sneaker,' and how does RunRepeat weigh these criteria in its evaluation?\",\n",
       " 'For the New Balance 9060, what are the specific materials used in the midsole that contribute to its twist resistance and soft feel, and how do these materials compare to those used in other chunky sneakers?',\n",
       " \"Concerning the Nike Zoom Vomero 5, how does the 'gusseted tongue' improve lockdown, and what foot types benefit most from this feature?\",\n",
       " 'With the VEJA Campo, what specific ethical sourcing practices are employed in obtaining the leather, and how are these practices verified?',\n",
       " \"For the ASICS Gel 1130, what specific design elements contribute to its '90s dad shoes retro vibe,' and how does RunRepeat assess the authenticity of this retro aesthetic?\",\n",
       " \"In the New Balance 990 v6, how is the 'ENCAP rim' constructed to provide arch support and stability, and what are the measurable differences in support compared to other casual sneakers?\",\n",
       " \"How does RunRepeat account for the variability in individual foot shapes and sizes when recommending sneakers for 'wide feet,' as mentioned in the Adidas Ozweego review?\",\n",
       " 'Given that the Adidas Samba lacks a midsole, what alternative technologies or design features contribute to shock absorption and comfort for short-term wear?',\n",
       " \"How does the RunRepeat lab test for the 'squeaking' issue reported in the New Balance 9060, and what factors typically contribute to this problem in sneakers?\"]"
      ]
     },
     "execution_count": 12,
     "metadata": {},
     "output_type": "execute_result"
    }
   ],
   "source": [
    "question_list"
   ]
  },
  {
   "cell_type": "code",
   "execution_count": 14,
   "id": "944e6e9a",
   "metadata": {},
   "outputs": [],
   "source": [
    "def initial_question_list(query):\n",
    "  question=[]\n",
    "  results=simple_search(query)\n",
    "  links=[link[\"link\"] for  link in results['organic']]\n",
    "  for link in links:\n",
    "    inital_extracted_data=page_extractor(link)\n",
    "    question_list=llm_for_question_gen(query,inital_extracted_data['text'])\n",
    "    for q in question_list:\n",
    "      question.append(q)\n",
    "  return question\n"
   ]
  },
  {
   "cell_type": "code",
   "execution_count": 15,
   "id": "7991b37d",
   "metadata": {},
   "outputs": [
    {
     "data": {
      "text/plain": [
       "[\"Why are Nvidia's GPUs so highly sought after for AI applications compared to AMD's offerings, specifically regarding architectural differences or software ecosystem advantages?\",\n",
       " \"How do the specific technical specifications (e.g., transistor density, memory bandwidth, core count) of AMD's Instinct MI300X chip compare to Nvidia's high-end GPUs, and what are the performance implications for AI workloads like training large language models?\",\n",
       " \"What specific AI projects led major tech companies to switch from Nvidia chips to AMD's Instinct MI300X in 2023, and what were the primary motivations (e.g., cost, performance, availability) behind these decisions?\",\n",
       " 'How does Intel plan to increase its market share in the GPU and AI chip market, and what are the key features and target applications of its newer GPU and specialized AI chip offerings?',\n",
       " \"What are the specific AI products and systems that IBM and Qualcomm are developing chips for 'in-house' use, and what are the strategic reasons for not broadly commercializing these chips?\",\n",
       " 'What are the specific export controls that bar Chinese firms from purchasing cutting-edge American AI chips, and how are companies like DeepSeek circumventing or adapting to these restrictions?',\n",
       " 'What are the long-term implications of Chinese AI progress and the potential development of Nvidia-quality chips in China for the global AI chip market and the competitive landscape between Nvidia, AMD, and Intel?',\n",
       " \"How do analysts justify their more pessimistic outlook on Intel compared to AMD in the AI chip market, considering Intel's established presence in the broader computing market?\",\n",
       " 'Beyond market share, what are the key performance indicators (KPIs) that should be monitored to assess the competitive threat posed by AMD and Intel to Nvidia in the AI chip market?',\n",
       " 'How is the competitive landscape evolving between Nvidia, AMD, and Intel in specific AI application areas such as autonomous driving, cloud computing, and edge computing?',\n",
       " \"Why does the Gartner Peer Insights report focus on networking switches when evaluating NVIDIA's competitors, and how does this relate to NVIDIA's core business of GPUs and AI accelerators?\",\n",
       " \"How are the 'service and support,' 'integration and deployment,' and 'evaluation and contracting' categories defined and measured in the Gartner Peer Insights reviews, and what specific aspects of NVIDIA's offerings contribute to its higher ratings in these areas compared to competitors like Cisco and Dell Technologies?\",\n",
       " 'What specific networking products or solutions offered by NVIDIA are being compared to those of Cisco Systems, Juniper, Arista Networks, Dell Technologies, Hewlett Packard Enterprise, Extreme Networks, Huawei, Broadcom (VMware), Lenovo, NETGEAR, Nokia (Nuage Networks), Pluribus Networks, H3C, Alcatel-Lucent Enterprise, Pica8, and Ruijie Networks in the Gartner Peer Insights reviews?',\n",
       " 'Given that the snippet is from 2025, how have the competitive dynamics between NVIDIA and these networking companies (Cisco Systems, Juniper, Arista Networks, Dell Technologies, Hewlett Packard Enterprise, Extreme Networks, Huawei, Broadcom (VMware), Lenovo, NETGEAR, Nokia (Nuage Networks), Pluribus Networks, H3C, Alcatel-Lucent Enterprise, Pica8, and Ruijie Networks) changed since then, and what new competitors have emerged?',\n",
       " \"To what extent does NVIDIA's acquisition of Mellanox influence its competitive positioning against companies like Cisco, Arista, and Juniper in the networking space, and how is this reflected in customer reviews and ratings?\",\n",
       " \"What are the key strengths and weaknesses of HPE Aruba switches compared to NVIDIA's networking solutions, particularly in terms of performance, scalability, management tools, and integration with other products?\",\n",
       " \"How do Lenovo SAN switches compete with NVIDIA's offerings in the storage area network market, and what are the differentiating features of Lenovo's Networking Manager and web-based interfaces?\",\n",
       " \"In what specific scenarios or use cases does Pluribus Networks' Adaptive Cloud Fabric offer advantages over NVIDIA's networking solutions, particularly in terms of data center reliability, disaster recovery, and network management?\",\n",
       " \"What is the significance of Alcatel-Lucent Enterprise switches supporting both IT and OT (Operational Technology) environments, and how does this compare to NVIDIA's focus on traditional IT networking?\",\n",
       " \"What specific VMware products are being compared to NVIDIA's offerings under the Broadcom (VMware) competitor listing, and how does NVIDIA's technology integrate or compete with VMware's virtualization and cloud management platforms?\",\n",
       " \"What specific AI applications or workloads are driving NVIDIA's data center sales, and how do these differ from the applications targeted by AMD?\",\n",
       " \"How does NVIDIA's CUDA software ecosystem create a barrier to entry for AMD, Intel, and cloud service providers (CSPs) like Google, Amazon (AWS), and Microsoft?\",\n",
       " \"What are the key technological differences between NVIDIA's Blackwell architecture and the AI chips being developed by Google (TPU), Amazon (AWS Trainium/Inferentia), and Microsoft (Maia)?\",\n",
       " \"What specific financial irregularities are alleged to be impacting Cerebras' IPO plans, and how does this affect their ability to compete with NVIDIA?\",\n",
       " \"How is Silex Systems' Zero-Spin Silicon expected to impact the quantum computing landscape, and what strategic advantage would a contract with Silex Systems provide to NVIDIA?\",\n",
       " \"What are the key performance metrics where NVIDIA's GPUs excel compared to Intel's Core Ultra and Arc GPU series in AI PC laptops and desktop environments?\",\n",
       " \"What specific advantages does Intel's new foundry service provide in manufacturing chips in the US, and how will Jaguar Shores compete with NVIDIA's data center GPU offerings?\",\n",
       " \"What are the projected timelines for AMD to double their GPU sales to $10-12B, and what market share would this represent relative to NVIDIA's projected $200B/year data center run rate?\",\n",
       " \"How do antitrust concerns and potential regulatory actions by the EU impact NVIDIA's market dominance, and what alternative strategies could competitors employ to gain market share?\",\n",
       " \"Besides CUDA, what other software or hardware innovations contribute to NVIDIA's 'special sauce' in AI, and how are competitors like AMD and Intel attempting to replicate or surpass these innovations?\",\n",
       " 'who are the competitors of NVIDIA',\n",
       " \"How has Lisa Su's leadership at AMD specifically impacted their ability to compete with Nvidia in the AI chip market?\",\n",
       " \"What specific networking solutions did Mellanox Technologies provide that were critical to Nvidia's portfolio, and how does the Chinese antitrust investigation affect Nvidia's access to these solutions?\",\n",
       " \"Beyond market capitalization, what other metrics demonstrate Nvidia's dominance in the AI chip industry in 2025?\",\n",
       " \"What are the specific terms and conditions of the CUDA license that create switching costs for companies considering alternatives to Nvidia's hardware?\",\n",
       " \"Can you provide examples of how Google's TPUs, Amazon's Trainium, and Microsoft's Athena are being used internally, and what are their performance benchmarks compared to Nvidia's GPUs?\",\n",
       " \"What specific AI applications are Graphcore's Intelligence Processing Units optimized for, and how does their performance compare to Nvidia's GPUs in those applications?\",\n",
       " \"What is the wafer-scale engine technology used by Cerebras Systems, and what are the compute-intensive tasks for which it is best suited compared to Nvidia's offerings?\",\n",
       " \"What innovative architectures is Jim Keller's Tenstorrent pioneering for AI acceleration, and what are the potential advantages of these architectures over Nvidia's GPUs?\",\n",
       " 'How vulnerable is Nvidia to supply chain disruptions due to its reliance on TSMC, and what alternative manufacturing options are available to Nvidia?',\n",
       " \"What are the specific details of the Chinese antitrust investigation into Nvidia's acquisition of Mellanox, and what are the potential consequences for Nvidia's operations in China?\",\n",
       " 'What are the key energy efficiency metrics for AI hardware, and which companies are delivering significant energy savings compared to Nvidia?',\n",
       " \"What is the current status of Intel's Gaudi processors, and what are the specific execution challenges that led to Pat Gelsinger's departure?\",\n",
       " 'In what specific ways are electric power companies partnering with Nvidia to solidify its status as the go-to provider for AI infrastructure?',\n",
       " \"How does Nvidia's DGX system contribute to its vertically integrated ecosystem, and what are the benefits for customers compared to fragmented solutions?\",\n",
       " \"What are the most recent advancements in AMD's MI series GPUs that pose a threat to Nvidia, and what are their price points relative to Nvidia's offerings?\"]"
      ]
     },
     "execution_count": 15,
     "metadata": {},
     "output_type": "execute_result"
    }
   ],
   "source": [
    "initial_question_list(query=\"who are the compitators of nvidia\")"
   ]
  },
  {
   "cell_type": "code",
   "execution_count": 1,
   "id": "1129c722",
   "metadata": {},
   "outputs": [],
   "source": [
    "from initaian_question_list import initial_question_list\n",
    "questions=initial_question_list(query=\"who are the compitators of nvidia\")"
   ]
  },
  {
   "cell_type": "code",
   "execution_count": 3,
   "id": "cc6b8896",
   "metadata": {},
   "outputs": [
    {
     "data": {
      "text/plain": [
       "[\"How does the specialization of Nvidia in AI chips, compared to AMD, specifically translate into a competitive advantage in terms of performance, efficiency, or cost for AI applications like OpenAI's ChatGPT?\",\n",
       " \"What specific factors led Microsoft, Meta, and OpenAI to switch to AMD's Instinct MI300X chip for new AI projects in 2023, and what are the implications for Nvidia's future market share and product development strategies?\",\n",
       " \"What are the key technological differences between Nvidia's GPUs, AMD's Instinct MI300X, and Intel's AI chips that account for the varying levels of market traction and analyst sentiment?\",\n",
       " 'Beyond market share, how do IBM and Qualcomm compete with Nvidia in specific niches or applications within the AI chip market, even if their overall presence is currently limited?',\n",
       " 'How do U.S. export controls on AI chips impact the competitive landscape between Nvidia, AMD, Intel, and Chinese AI chip developers, and what strategies are these companies employing to navigate these restrictions?',\n",
       " 'What are the specific metrics and methodologies used by Jon Peddie Research to determine market share in the add-on GPU market, and how reliable are these figures in capturing the full scope of AI chip competition?',\n",
       " \"How does the development of in-house AI chips by companies like Microsoft, Amazon, and Alphabet impact the demand for Nvidia's GPUs and the overall market dynamics for AI chip vendors?\",\n",
       " \"What are the specific AI applications and workloads for which AMD's Instinct MI300X chip is proving to be a more competitive alternative to Nvidia's GPUs, and what are the performance benchmarks?\",\n",
       " 'What are the key barriers preventing Intel from gaining significant market share in the AI chip market, and what specific strategies are they pursuing to overcome these challenges and differentiate their products?',\n",
       " 'How do the different business models of Nvidia, AMD, and Intel (e.g., focus on gaming vs. data centers) influence their competitive strategies and market positioning in the AI chip market?',\n",
       " \"Why are 'service and support', 'integration and deployment', and 'evaluation and contracting' consistently highlighted as areas where NVIDIA outperforms its competitors like Cisco, Juniper, Arista, Dell, HPE, Extreme Networks, Huawei, Broadcom (VMware), Lenovo, NETGEAR, Nokia (Nuage Networks), Pluribus Networks, H3C, Alcatel-Lucent Enterprise, Pica8 and Ruijie Networks?\",\n",
       " 'In what specific product categories or market segments does NVIDIA compete with Cisco Systems, Juniper, Arista Networks, Dell Technologies, Hewlett Packard Enterprise, Extreme Networks, Huawei, Broadcom (VMware), Lenovo, NETGEAR, Nokia (Nuage Networks), Pluribus Networks, H3C, Alcatel-Lucent Enterprise, Pica8 and Ruijie Networks?',\n",
       " 'What are the strengths of Cisco Systems, Juniper, Arista Networks, Dell Technologies, Hewlett Packard Enterprise, Extreme Networks, Huawei, Broadcom (VMware), Lenovo, NETGEAR, Nokia (Nuage Networks), Pluribus Networks, H3C, Alcatel-Lucent Enterprise, Pica8 and Ruijie Networks that are not captured in the Gartner Peer Insights reviews, and how do these strengths impact their competitiveness against NVIDIA?',\n",
       " \"How does NVIDIA's pricing strategy compare to that of Cisco Systems, Juniper, Arista Networks, Dell Technologies, Hewlett Packard Enterprise, Extreme Networks, Huawei, Broadcom (VMware), Lenovo, NETGEAR, Nokia (Nuage Networks), Pluribus Networks, H3C, Alcatel-Lucent Enterprise, Pica8 and Ruijie Networks for comparable products and services?\",\n",
       " 'What specific networking products or solutions offered by NVIDIA are being compared to the switch products of Cisco Systems, Dell Technologies, Hewlett Packard Enterprise, and Lenovo?',\n",
       " 'Given that H3C is a relatively new brand in Mexico, what strategies are they employing to compete with established players like NVIDIA in the networking equipment market?',\n",
       " \"How does Broadcom's (VMware) NSX Datacenter product offering directly compete with NVIDIA's solutions in the data center networking space?\",\n",
       " \"What are the key features and benefits of Lenovo SAN Switches that differentiate them from NVIDIA's offerings in the storage area network market?\",\n",
       " 'What is the market share of NVIDIA versus Cisco Systems, Juniper, Arista Networks, Dell Technologies, Hewlett Packard Enterprise, Extreme Networks, Huawei, Broadcom (VMware), Lenovo, NETGEAR, Nokia (Nuage Networks), Pluribus Networks, H3C, Alcatel-Lucent Enterprise, Pica8 and Ruijie Networks in the networking switch market?',\n",
       " 'How does the integration of Aruba products with Hewlett Packard Enterprise impact their competitive positioning against NVIDIA?',\n",
       " \"What specific AI applications are driving NVIDIA's data center sales, and how are AMD, Intel, and cloud service providers (CSPs) targeting these same applications?\",\n",
       " \"How does NVIDIA's CUDA software ecosystem create a barrier to entry for AMD, Intel, and other competitors in the AI GPU market, and what are these companies doing to counter it?\",\n",
       " \"What are the key technological differences between NVIDIA's Blackwell architecture and the AI chips being developed by Google (TPU), Amazon (Trainium/Inferentia), and Microsoft (Maia), and how do these differences impact performance and cost?\",\n",
       " 'What specific financial shenanigans are allegedly plaguing Cerebras, and how are these issues affecting their ability to compete with NVIDIA in the AI chip market?',\n",
       " \"How is the EU's potential antitrust action against NVIDIA impacting NVIDIA's strategies and market position in Europe, and what are the potential outcomes of such an action?\",\n",
       " \"What are the specific advantages of Silex Systems' Zero-Spin Silicon, and how would a contract with NVIDIA provide a competitive moat in the quantum computing market?\",\n",
       " \"How will Intel's new foundry services and upcoming Jaguar Shores GPU impact its competitiveness against NVIDIA in the data center AI market, and what are the expected performance benchmarks for Jaguar Shores?\",\n",
       " 'What is the estimated timeline for AMD to close the gap with NVIDIA in terms of data center GPU sales and software ecosystem development, and what specific strategies are they employing to achieve this?',\n",
       " 'What are the key performance metrics and benchmarks used to compare NVIDIA GPUs with those of its competitors (AMD, Intel, Google, Amazon, Microsoft) in AI applications, and how does NVIDIA maintain its lead?',\n",
       " 'What is the current market share of NVIDIA, AMD, and Intel in the AI GPU market, and how is this market share expected to change over the next 3-5 years?',\n",
       " \"What specific companies are considered NVIDIA's primary competitors in the GPU and related markets?\",\n",
       " \"Beyond direct competitors, which companies offer alternative solutions to NVIDIA's products, and in what specific areas?\",\n",
       " \"How do NVIDIA's competitors' product offerings compare in terms of performance, pricing, and target market segments?\",\n",
       " 'What are the key strengths and weaknesses of NVIDIA compared to its main competitors?',\n",
       " 'What are the market shares of NVIDIA and its main competitors in the GPU and related markets?',\n",
       " 'How is the competitive landscape expected to evolve by 2025, as suggested in the search snippet title?',\n",
       " 'What are the key competitive advantages that NVIDIA possesses over its competitors?',\n",
       " \"What are some potential disruptive technologies or market trends that could impact NVIDIA's competitive position?\",\n",
       " 'What are the barriers to entry for new competitors in the GPU market?',\n",
       " \"What are the strategies that NVIDIA's competitors are employing to gain market share?\",\n",
       " \"1. What specific AI applications or sectors are AMD's MI series GPUs most competitive with Nvidia's offerings?\",\n",
       " \"2. How does Intel's commitment to AI accelerators translate into tangible product development and market strategies, especially considering the departure of Pat Gelsinger?\",\n",
       " \"3. What are the performance benchmarks and energy efficiency metrics of Google's TPUs compared to Nvidia's GPUs in similar AI workloads?\",\n",
       " \"4. Can you provide more details on the architecture and capabilities of Amazon's Trainium and Microsoft's Athena AI chips, and how they compare to Nvidia's offerings in terms of performance and cost-effectiveness?\",\n",
       " \"5. What specific AI applications are Graphcore's Intelligence Processing Units optimized for, and what are their advantages over Nvidia's GPUs in these areas?\",\n",
       " \"6. How does Cerebras Systems' wafer-scale engine technology address the challenges of large-scale AI workloads compared to traditional GPU-based solutions from Nvidia?\",\n",
       " \"7. What innovative architectures is Tenstorrent pioneering for AI acceleration, and how do they differentiate themselves from Nvidia's GPU designs?\",\n",
       " \"8. What are the key advantages and disadvantages of custom ASICs compared to general-purpose GPUs like Nvidia's in terms of performance, cost, and flexibility?\",\n",
       " '9. How is Nvidia addressing the manufacturing bottlenecks associated with its reliance on TSMC, and what alternative manufacturing strategies are they exploring?',\n",
       " \"10. What is the current status of the Chinese antitrust investigation into Nvidia's acquisition of Mellanox, and what are the potential implications for Nvidia's market position in China?\",\n",
       " \"11. What specific energy-saving technologies or architectures are being developed to challenge Nvidia's dominance in AI hardware, and how do they compare in terms of performance and cost?\",\n",
       " '12. What are the key performance indicators (KPIs) that Nvidia uses to measure the success of its CUDA ecosystem, and how do these KPIs compare to those of competing platforms?',\n",
       " \"13. How do Nvidia's partnerships with cloud providers, electric power companies, universities, and enterprises contribute to its competitive advantage in the AI chip market?\",\n",
       " \"14. What are the major differences between Nvidia's Tesla GPU series and the Hopper architecture, and how do these differences impact their performance in different AI workloads?\",\n",
       " '15. What are the biggest challenges Nvidia faces in maintaining its dominance in the AI chip market, and what strategies is it employing to address these challenges?']"
      ]
     },
     "execution_count": 3,
     "metadata": {},
     "output_type": "execute_result"
    }
   ],
   "source": [
    "questions"
   ]
  },
  {
   "cell_type": "code",
   "execution_count": 3,
   "id": "d4953c56",
   "metadata": {},
   "outputs": [],
   "source": [
    "results=single_search(query=questions[0])"
   ]
  },
  {
   "cell_type": "code",
   "execution_count": 4,
   "id": "5630987b",
   "metadata": {},
   "outputs": [
    {
     "data": {
      "text/plain": [
       "'https://tensorwave.com/blog/empowering-ai-a-detailed-comparison-of-amd-instinct-mi300x-and-nvidia-h100-gpus-for-large-scale-clusters?ref=ghost.twave.zone'"
      ]
     },
     "execution_count": 4,
     "metadata": {},
     "output_type": "execute_result"
    }
   ],
   "source": [
    "from simplesearc import single_search\n",
    "results['organic'][0]['link']\n"
   ]
  },
  {
   "cell_type": "code",
   "execution_count": 5,
   "id": "09dde769",
   "metadata": {},
   "outputs": [],
   "source": [
    "from inital_search_results import page_extractor , llm_respond_for_link"
   ]
  },
  {
   "cell_type": "code",
   "execution_count": 10,
   "id": "5843a335",
   "metadata": {},
   "outputs": [],
   "source": [
    "def final_process(queries):\n",
    "    final_result=[]\n",
    "    for query in queries:\n",
    "        results=single_search(query)\n",
    "        link=results['organic'][0]['link']\n",
    "        result=llm_respond_for_link(query,link)\n",
    "        final_result.append(result)\n",
    "    return final_result\n"
   ]
  },
  {
   "cell_type": "code",
   "execution_count": 11,
   "id": "7dd60fe9",
   "metadata": {},
   "outputs": [],
   "source": [
    "final_content=final_process(questions[:2])"
   ]
  },
  {
   "cell_type": "code",
   "execution_count": 14,
   "id": "f33a80ad",
   "metadata": {},
   "outputs": [
    {
     "data": {
      "text/plain": [
       "[\"Based on the article, here's a comparison of AMD's Instinct MI300X chips and NVIDIA's H100 GPUs for AI applications, particularly LLMs:\\n\\n**Performance:**\\n\\n*   **Conflicting Claims:** Both AMD and NVIDIA have made performance claims, but independent comparisons are not yet available. It's important to consider these claims as marketing and potentially theoretical.\\n*   **AMD Claims:**\\n    *   20% faster than H100 in single-GPU setups (according to AMD).\\n    *   60% faster when deployed as an eight-GPU cluster (according to AMD).\\n    *   20% advantage in inference performance on the Llama 2 LLM (13 billion parameters) (according to AMD).\\n    *   40% advantage in inference latency on Llama 2 (70 billion parameters) (according to AMD).\\n    *   Higher FLOPS (2,614.9 TFLOPS vs. 1,978.9 TFLOPS for FP8 precision) (according to AMD).\\n*   **Memory and Bandwidth:** The MI300X has significantly more memory (192 GB vs. 80 GB) and higher memory bandwidth (5.2 TB/s vs. 3.35 TB/s) than the H100. This is particularly beneficial for large-scale AI workloads like LLMs.\\n\\n**Cost-Effectiveness (TCO):**\\n\\n*   **Power Consumption:** While the MI300X has a slightly higher wattage (750W vs. 700W for the H100), the article suggests that its performance per watt might be better, leading to a lower total cost of ownership (TCO).\\n*   **Overall Efficiency:** The article claims the MI300X is more efficient overall due to its architecture and performance increase with a small increase in power consumption.\\n\\n**Other Considerations:**\\n\\n*   **Architecture:** The MI300X uses a 3D-stacked design, packing more transistors in a smaller area, while the H100 uses a traditional single-chip design.\\n*   **Software Stack:** AMD and NVIDIA have different optimized software stacks, which can affect performance.\\n*   **Availability:** NVIDIA H100 GPUs are in high demand, potentially leading to long wait times.\\n*   **Testing:** The article emphasizes the importance of testing both platforms with your specific workloads to determine the best fit.\\n\\n**In summary:** The MI300X appears to offer advantages in memory, memory bandwidth, and potentially power efficiency. Performance claims should be viewed with caution until independent benchmarks are available. The best choice depends on your specific AI tasks, budget, and willingness to wait for hardware.\",\n",
       " \"Based on the provided document, here's what led Microsoft, Meta, and OpenAI to partner with AMD and utilize their Instinct MI300X chips for AI projects:\\n\\n*   **Performance and Scalability:** The MI300X GPUs offer substantial performance for AI model training and inference. Meta specifically mentioned the compute power of MI350 and its performance-per-TCO.\\n*   **Existing Partnerships:** These companies already had established relationships with AMD, making the transition smoother.\\n*   **Open Ecosystem and Software:** AMD's commitment to an open AI ecosystem, particularly the ROCm open software stack, is attractive. This allows for greater flexibility and control over their AI infrastructure.\\n*   **Specific Deployments:**\\n    *   **Meta:** Deployed Instinct MI300X for Llama 3 and Llama 4 inference.\\n    *   **OpenAI:** Partnered closely with AMD on AI infrastructure, with research and GPT models on Azure running on MI300X.\\n    *   **Microsoft:** Announced that Instinct MI300X is powering both proprietary and open-source models in production on Azure.\\n*   **Price-Performance Gains:** MI355X delivers significant price-performance gains, generating up to 40% more tokens-per-dollar compared to competing solutions.\"]"
      ]
     },
     "execution_count": 14,
     "metadata": {},
     "output_type": "execute_result"
    }
   ],
   "source": [
    "final_content"
   ]
  },
  {
   "cell_type": "code",
   "execution_count": 15,
   "id": "2d64f2af",
   "metadata": {},
   "outputs": [],
   "source": [
    "final_prompt=\"\"\"\n",
    "You are an amazing analyzer , You take responses of many worker who worked on various perspectives of a user question and answer him in the best possible way\n",
    "\n",
    "here is the response from many workers\n",
    "{content}\n",
    "\n",
    "\n",
    "here is the question\n",
    "{question}\n",
    "\"\"\""
   ]
  },
  {
   "cell_type": "code",
   "execution_count": 16,
   "id": "96852670",
   "metadata": {},
   "outputs": [],
   "source": [
    "total_content=\" \".join(final_content)"
   ]
  },
  {
   "cell_type": "code",
   "execution_count": 17,
   "id": "843cca31",
   "metadata": {},
   "outputs": [],
   "source": [
    "from langchain_google_genai import ChatGoogleGenerativeAI"
   ]
  },
  {
   "cell_type": "code",
   "execution_count": 18,
   "id": "e05fd09f",
   "metadata": {},
   "outputs": [
    {
     "data": {
      "text/plain": [
       "True"
      ]
     },
     "execution_count": 18,
     "metadata": {},
     "output_type": "execute_result"
    }
   ],
   "source": [
    "from dotenv import load_dotenv\n",
    "load_dotenv()"
   ]
  },
  {
   "cell_type": "code",
   "execution_count": 19,
   "id": "e61df507",
   "metadata": {},
   "outputs": [],
   "source": [
    "llm=ChatGoogleGenerativeAI(model=\"gemini-2.0-flash\")"
   ]
  },
  {
   "cell_type": "code",
   "execution_count": 20,
   "id": "16ce793e",
   "metadata": {},
   "outputs": [],
   "source": [
    "query=\"who are the compitators of nvidia\""
   ]
  },
  {
   "cell_type": "code",
   "execution_count": 21,
   "id": "0f19eb1d",
   "metadata": {},
   "outputs": [
    {
     "data": {
      "text/plain": [
       "AIMessage(content=\"Based on the information provided, **AMD** is presented as NVIDIA's primary competitor in the AI chip market, specifically concerning GPUs for AI applications like LLMs.\\n\\nHere's why:\\n\\n*   **Direct Comparison:** The entire analysis focuses on a head-to-head comparison between AMD's Instinct MI300X and NVIDIA's H100, highlighting areas where AMD claims to outperform NVIDIA.\\n*   **Target Market:** Both companies are vying for the same customers (Microsoft, Meta, OpenAI) who need powerful GPUs for AI workloads.\\n*   **Performance Claims:** AMD is directly challenging NVIDIA's dominance by making claims of superior performance in certain AI tasks.\\n*   **Partnerships:** The article highlights major players like Microsoft, Meta, and OpenAI partnering with AMD, indicating a shift in the landscape and a challenge to NVIDIA's existing market share.\\n\\nWhile other companies might be involved in the broader chip market, the information provided clearly positions AMD as the main competitor to NVIDIA in the specific context of AI GPUs.\", additional_kwargs={}, response_metadata={'prompt_feedback': {'block_reason': 0, 'safety_ratings': []}, 'finish_reason': 'STOP', 'model_name': 'gemini-2.0-flash', 'safety_ratings': []}, id='run--50bccbfc-63cf-4d4c-abf4-801b0621d296-0', usage_metadata={'input_tokens': 916, 'output_tokens': 218, 'total_tokens': 1134, 'input_token_details': {'cache_read': 0}})"
      ]
     },
     "execution_count": 21,
     "metadata": {},
     "output_type": "execute_result"
    }
   ],
   "source": [
    "llm.invoke(final_prompt.format(content=total_content,question=query))"
   ]
  },
  {
   "cell_type": "code",
   "execution_count": null,
   "id": "8c03f722",
   "metadata": {},
   "outputs": [],
   "source": []
  }
 ],
 "metadata": {
  "kernelspec": {
   "display_name": ".venv",
   "language": "python",
   "name": "python3"
  },
  "language_info": {
   "codemirror_mode": {
    "name": "ipython",
    "version": 3
   },
   "file_extension": ".py",
   "mimetype": "text/x-python",
   "name": "python",
   "nbconvert_exporter": "python",
   "pygments_lexer": "ipython3",
   "version": "3.10.15"
  }
 },
 "nbformat": 4,
 "nbformat_minor": 5
}
