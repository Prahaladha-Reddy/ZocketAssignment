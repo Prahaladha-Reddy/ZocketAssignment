{
 "cells": [
  {
   "cell_type": "code",
   "execution_count": 4,
   "id": "6fa03a19",
   "metadata": {},
   "outputs": [
    {
     "name": "stderr",
     "output_type": "stream",
     "text": [
      "c:\\Users\\bored\\Pictures\\ZocketAssignment\\.venv\\lib\\site-packages\\tqdm\\auto.py:21: TqdmWarning: IProgress not found. Please update jupyter and ipywidgets. See https://ipywidgets.readthedocs.io/en/stable/user_install.html\n",
      "  from .autonotebook import tqdm as notebook_tqdm\n",
      "C:\\Users\\bored\\AppData\\Local\\Temp\\ipykernel_21216\\1048804728.py:10: DeprecationWarning: load_dataset is deprecated and will be removed in a future version.\n",
      "  df = kagglehub.load_dataset(\n"
     ]
    },
    {
     "name": "stdout",
     "output_type": "stream",
     "text": [
      "First 5 records:                Brand                                             Slogan  \\\n",
      "0               Audi  Never Follow.\\nKeeping ahead through technolog...   \n",
      "1              Apple  Company advertising campaigns\\nByte into an Ap...   \n",
      "2  American Airlines  The new American is arriving.\\nBe yourself. No...   \n",
      "3               Avon  The company for women.\\nWe make it easy, You m...   \n",
      "4          Accenture  High Performance, Delivered.\\nGo on, be a Tige...   \n",
      "\n",
      "                                    Raw_Revenue_Info  identical_trademarks  \\\n",
      "0  For the reporting period, the Audi Group's pro...                    13   \n",
      "1  Cupertino, California — October 29, 2020 — App...                    30   \n",
      "2  22, 2020 (GLOBE NEWSWIRE) -- American Airlines...                    10   \n",
      "3  Avon Products Inc achieved in the III. Quarter...                    31   \n",
      "4  NEW YORK; June 25, 2020 — Accenture (NYSE: ACN...                     6   \n",
      "\n",
      "   simillar_trademarks  social_media_taken  domains_point_to_website  \n",
      "0                 1751                   3                         5  \n",
      "1                 1134                   3                         9  \n",
      "2                  686                   2                         8  \n",
      "3                  674                   3                         6  \n",
      "4                  457                   3                         5  \n"
     ]
    }
   ],
   "source": [
    "# Install dependencies as needed:\n",
    "# pip install kagglehub[pandas-datasets]\n",
    "import kagglehub\n",
    "from kagglehub import KaggleDatasetAdapter\n",
    "\n",
    "# Set the path to the file you'd like to load\n",
    "file_path = \"Slogans.csv\"\n",
    "\n",
    "# Load the latest version\n",
    "df = kagglehub.load_dataset(\n",
    "  KaggleDatasetAdapter.PANDAS,\n",
    "  \"thomaskonstantin/known-brands-slogans-and-risk-assessment\",\n",
    "  file_path,\n",
    "  # Provide any additional arguments like \n",
    "  # sql_query or pandas_kwargs. See the \n",
    "  # documenation for more information:\n",
    "  # https://github.com/Kaggle/kagglehub/blob/main/README.md#kaggledatasetadapterpandas\n",
    ")\n",
    "\n",
    "\n",
    "print(\"First 5 records:\", df.head())"
   ]
  },
  {
   "cell_type": "code",
   "execution_count": 5,
   "id": "43f4f1de",
   "metadata": {},
   "outputs": [
    {
     "data": {
      "text/html": [
       "<div>\n",
       "<style scoped>\n",
       "    .dataframe tbody tr th:only-of-type {\n",
       "        vertical-align: middle;\n",
       "    }\n",
       "\n",
       "    .dataframe tbody tr th {\n",
       "        vertical-align: top;\n",
       "    }\n",
       "\n",
       "    .dataframe thead th {\n",
       "        text-align: right;\n",
       "    }\n",
       "</style>\n",
       "<table border=\"1\" class=\"dataframe\">\n",
       "  <thead>\n",
       "    <tr style=\"text-align: right;\">\n",
       "      <th></th>\n",
       "      <th>Brand</th>\n",
       "      <th>Slogan</th>\n",
       "      <th>Raw_Revenue_Info</th>\n",
       "      <th>identical_trademarks</th>\n",
       "      <th>simillar_trademarks</th>\n",
       "      <th>social_media_taken</th>\n",
       "      <th>domains_point_to_website</th>\n",
       "    </tr>\n",
       "  </thead>\n",
       "  <tbody>\n",
       "    <tr>\n",
       "      <th>0</th>\n",
       "      <td>Audi</td>\n",
       "      <td>Never Follow.\\nKeeping ahead through technolog...</td>\n",
       "      <td>For the reporting period, the Audi Group's pro...</td>\n",
       "      <td>13</td>\n",
       "      <td>1751</td>\n",
       "      <td>3</td>\n",
       "      <td>5</td>\n",
       "    </tr>\n",
       "    <tr>\n",
       "      <th>1</th>\n",
       "      <td>Apple</td>\n",
       "      <td>Company advertising campaigns\\nByte into an Ap...</td>\n",
       "      <td>Cupertino, California — October 29, 2020 — App...</td>\n",
       "      <td>30</td>\n",
       "      <td>1134</td>\n",
       "      <td>3</td>\n",
       "      <td>9</td>\n",
       "    </tr>\n",
       "    <tr>\n",
       "      <th>2</th>\n",
       "      <td>American Airlines</td>\n",
       "      <td>The new American is arriving.\\nBe yourself. No...</td>\n",
       "      <td>22, 2020 (GLOBE NEWSWIRE) -- American Airlines...</td>\n",
       "      <td>10</td>\n",
       "      <td>686</td>\n",
       "      <td>2</td>\n",
       "      <td>8</td>\n",
       "    </tr>\n",
       "    <tr>\n",
       "      <th>3</th>\n",
       "      <td>Avon</td>\n",
       "      <td>The company for women.\\nWe make it easy, You m...</td>\n",
       "      <td>Avon Products Inc achieved in the III. Quarter...</td>\n",
       "      <td>31</td>\n",
       "      <td>674</td>\n",
       "      <td>3</td>\n",
       "      <td>6</td>\n",
       "    </tr>\n",
       "    <tr>\n",
       "      <th>4</th>\n",
       "      <td>Accenture</td>\n",
       "      <td>High Performance, Delivered.\\nGo on, be a Tige...</td>\n",
       "      <td>NEW YORK; June 25, 2020 — Accenture (NYSE: ACN...</td>\n",
       "      <td>6</td>\n",
       "      <td>457</td>\n",
       "      <td>3</td>\n",
       "      <td>5</td>\n",
       "    </tr>\n",
       "  </tbody>\n",
       "</table>\n",
       "</div>"
      ],
      "text/plain": [
       "               Brand                                             Slogan  \\\n",
       "0               Audi  Never Follow.\\nKeeping ahead through technolog...   \n",
       "1              Apple  Company advertising campaigns\\nByte into an Ap...   \n",
       "2  American Airlines  The new American is arriving.\\nBe yourself. No...   \n",
       "3               Avon  The company for women.\\nWe make it easy, You m...   \n",
       "4          Accenture  High Performance, Delivered.\\nGo on, be a Tige...   \n",
       "\n",
       "                                    Raw_Revenue_Info  identical_trademarks  \\\n",
       "0  For the reporting period, the Audi Group's pro...                    13   \n",
       "1  Cupertino, California — October 29, 2020 — App...                    30   \n",
       "2  22, 2020 (GLOBE NEWSWIRE) -- American Airlines...                    10   \n",
       "3  Avon Products Inc achieved in the III. Quarter...                    31   \n",
       "4  NEW YORK; June 25, 2020 — Accenture (NYSE: ACN...                     6   \n",
       "\n",
       "   simillar_trademarks  social_media_taken  domains_point_to_website  \n",
       "0                 1751                   3                         5  \n",
       "1                 1134                   3                         9  \n",
       "2                  686                   2                         8  \n",
       "3                  674                   3                         6  \n",
       "4                  457                   3                         5  "
      ]
     },
     "execution_count": 5,
     "metadata": {},
     "output_type": "execute_result"
    }
   ],
   "source": [
    "df.head()"
   ]
  },
  {
   "cell_type": "code",
   "execution_count": 6,
   "id": "8bd09272",
   "metadata": {},
   "outputs": [],
   "source": [
    "data=df.copy()"
   ]
  },
  {
   "cell_type": "code",
   "execution_count": 7,
   "id": "2ccafe91",
   "metadata": {},
   "outputs": [],
   "source": [
    "import pandas as pd\n",
    "df.to_csv(\"brand_slogans.csv\", index=False)   # single source of truth\n"
   ]
  },
  {
   "cell_type": "code",
   "execution_count": 28,
   "id": "7eb29c95",
   "metadata": {},
   "outputs": [
    {
     "name": "stdout",
     "output_type": "stream",
     "text": [
      "\n",
      "\n",
      "\u001b[1m> Entering new AgentExecutor chain...\u001b[0m\n",
      "\u001b[32;1m\u001b[1;3m\n",
      "Invoking: `to_markdown` with `{'index': False}`\n",
      "\n",
      "\n",
      "\u001b[0mto_markdown is not a valid tool, try one of [python_repl_ast].\u001b[32;1m\u001b[1;3m\n",
      "Invoking: `to_markdown` with `{'index': False}`\n",
      "\n",
      "\n",
      "\u001b[0mto_markdown is not a valid tool, try one of [python_repl_ast].\u001b[32;1m\u001b[1;3m\n",
      "Invoking: `python_repl_ast` with `{'query': \"df_sorted = df.sort_values(by='simillar_trademarks').head(5)\\nprint(df_sorted[['Brand', 'Slogan']].to_markdown(index=False))\"}`\n",
      "\n",
      "\n",
      "\u001b[0m\u001b[36;1m\u001b[1;3m| Brand            | Slogan                                                            |\n",
      "|:-----------------|:------------------------------------------------------------------|\n",
      "| Susquehanna Ban… | A smarter way to money.                                           |\n",
      "|                  | Doing what counts.                                                |\n",
      "| StumbleUpon      | Discover the Best of the Web.                                     |\n",
      "| Ruth's Chri…     | Some people call it a sizzle. We think of it as an anthem.        |\n",
      "|                  | Life’s too short to eat anywhere else.                            |\n",
      "| Ghirardelli Cho… | Moments of timeless pleasure. ( Ghirardelli Chocolate )           |\n",
      "|                  | Lose yourself in the dark. ( Ghirardelli Intense Dark Chocolate ) |\n",
      "| Cutty Sark (whi… | Live a Cutty above.                                               |\n",
      "|                  | Don't give up the ship.                                           |\n",
      "\u001b[0m\u001b[32;1m\u001b[1;3mHere are the top 5 brands with the fewest similar trademarks and their slogans:\n",
      "\n",
      "| Brand | Slogan |\n",
      "|:---|:---|\n",
      "| Susquehanna Ban… | A smarter way to money. Doing what counts. |\n",
      "| StumbleUpon | Discover the Best of the Web. |\n",
      "| Ruth's Chri… | Some people call it a sizzle. We think of it as an anthem. Life’s too short to eat anywhere else. |\n",
      "| Ghirardelli Cho… | Moments of timeless pleasure. ( Ghirardelli Chocolate ) Lose yourself in the dark. ( Ghirardelli Intense Dark Chocolate ) |\n",
      "| Cutty Sark (whi… | Live a Cutty above. Don't give up the ship. |\n",
      "\u001b[0m\n",
      "\n",
      "\u001b[1m> Finished chain.\u001b[0m\n"
     ]
    }
   ],
   "source": [
    "from langchain_experimental.agents import create_pandas_dataframe_agent\n",
    "from langchain_google_genai import ChatGoogleGenerativeAI\n",
    "from dotenv import load_dotenv\n",
    "load_dotenv()\n",
    "llm   = ChatGoogleGenerativeAI(model=\"gemini-2.5-flash\", temperature=0)   # cheap, fast\n",
    "agent = create_pandas_dataframe_agent(llm, df,agent_type=\"openai-tools\" ,verbose=True,allow_dangerous_code=True)\n",
    "\n",
    "result=agent.run(\"List the top 5 brands with the fewest similar trademarks \"\n",
    "          \"and show their slogans.\")\n"
   ]
  },
  {
   "cell_type": "code",
   "execution_count": 30,
   "id": "876b9dd1",
   "metadata": {},
   "outputs": [
    {
     "name": "stdout",
     "output_type": "stream",
     "text": [
      "Here are the top 5 brands with the fewest similar trademarks and their slogans:\n",
      "\n",
      "| Brand | Slogan |\n",
      "|:---|:---|\n",
      "| Susquehanna Ban… | A smarter way to money. Doing what counts. |\n",
      "| StumbleUpon | Discover the Best of the Web. |\n",
      "| Ruth's Chri… | Some people call it a sizzle. We think of it as an anthem. Life’s too short to eat anywhere else. |\n",
      "| Ghirardelli Cho… | Moments of timeless pleasure. ( Ghirardelli Chocolate ) Lose yourself in the dark. ( Ghirardelli Intense Dark Chocolate ) |\n",
      "| Cutty Sark (whi… | Live a Cutty above. Don't give up the ship. |\n",
      "\n"
     ]
    }
   ],
   "source": [
    "print(result)"
   ]
  },
  {
   "cell_type": "code",
   "execution_count": null,
   "id": "92444054",
   "metadata": {},
   "outputs": [],
   "source": []
  }
 ],
 "metadata": {
  "kernelspec": {
   "display_name": ".venv",
   "language": "python",
   "name": "python3"
  },
  "language_info": {
   "codemirror_mode": {
    "name": "ipython",
    "version": 3
   },
   "file_extension": ".py",
   "mimetype": "text/x-python",
   "name": "python",
   "nbconvert_exporter": "python",
   "pygments_lexer": "ipython3",
   "version": "3.10.15"
  }
 },
 "nbformat": 4,
 "nbformat_minor": 5
}
