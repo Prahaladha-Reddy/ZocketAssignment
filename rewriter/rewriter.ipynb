{
 "cells": [
  {
   "cell_type": "code",
   "execution_count": 1,
   "id": "22c89408",
   "metadata": {},
   "outputs": [],
   "source": [
    "state = {\n",
    "    \"initial_ad\": str,   # original ad\n",
    "    \"tone\": str,         # e.g. \"fun\"\n",
    "    \"platform\": str,     # e.g. \"Instagram\"\n",
    "    \"polished_ad\": str,  # latest polished ad\n",
    "    \"is_ok\": bool,       # review outcome\n",
    "    \"feed_back\": str     # feedback for improvement\n",
    "}\n"
   ]
  },
  {
   "cell_type": "code",
   "execution_count": 2,
   "id": "421cb5ad",
   "metadata": {},
   "outputs": [],
   "source": [
    "from langchain_groq import ChatGroq\n",
    "from dotenv import load_dotenv\n",
    "load_dotenv()\n",
    "import os\n",
    "llm=ChatGroq(model=\"llama3-8b-8192\",api_key=os.getenv(\"GROQ_API_KEY\"))\n"
   ]
  },
  {
   "cell_type": "code",
   "execution_count": 21,
   "id": "2cc3530c",
   "metadata": {},
   "outputs": [],
   "source": [
    "from pydantic import BaseModel , Field\n",
    "from typing import Literal\n",
    "\n",
    "class State(BaseModel):\n",
    "    initial_ad: str = Field(description=\"The original ad\")\n",
    "    tone: str = Field(description=\"The tone of the ad\")\n",
    "    platform: str = Field(description=\"The platform for the ad\")\n",
    "    polished_ad: str = Field(description=\"The polished ad\")\n",
    "    is_ok: bool = Field(description=\"Whether the ad is ok\")\n",
    "    feed_back: str = Field(description=\"The feedback for the ad\")\n"
   ]
  },
  {
   "cell_type": "code",
   "execution_count": 12,
   "id": "ebd0189a",
   "metadata": {},
   "outputs": [],
   "source": [
    "add_writer_prompt=\"\"\"\n",
    "You are a professional ad writer.\n",
    "You are given an ad and you need to write a new ad for the same product.\n",
    "The ad should be in the same tone as the original ad.\n",
    "The ad should be in the same platform as the original ad.\n",
    "The ad should be in the same tone as the original ad.\n",
    "You should be very creative and unique in your writing.\n",
    "\n",
    "\n",
    "Here is the original ad:\n",
    "{initial_ad}\n",
    "\n",
    "You might also have some feedback for the ad.\n",
    "{feedback}\n",
    "\"\"\""
   ]
  },
  {
   "cell_type": "code",
   "execution_count": 29,
   "id": "180adf5d",
   "metadata": {},
   "outputs": [],
   "source": [
    "review_prompt=\"\"\"\n",
    "You are a professional ad reviewer.\n",
    "You are given an ad and you need to review it.\n",
    "You need to check if the ad is well-written and suitable for the platform and tone.\n",
    "If you it is good then return True else return False. remember only return True or False.\n",
    "\n",
    "Here is the ad:\n",
    "{polished_ad}\n",
    "\n",
    "The tone of the ad is {tone} and the platform is {platform}.\n",
    "\"\"\""
   ]
  },
  {
   "cell_type": "code",
   "execution_count": 16,
   "id": "ce81fe51",
   "metadata": {},
   "outputs": [],
   "source": [
    "feedback_prompt=\"\"\"\n",
    "You are a professional ad reviewer.\n",
    "You are given an ad and you need to review it.\n",
    "You need to check if the ad is well-written and suitable for the platform and tone.\n",
    "You need to provide actionable feedback to improve the ad.\n",
    "You need to provide feedback in the same tone as the original ad.\n",
    "You need to provide feedback in the same platform as the original ad.\n",
    "\n",
    "Here is the ad:\n",
    "{polished_ad}\n",
    "\n",
    "\"\"\""
   ]
  },
  {
   "cell_type": "code",
   "execution_count": 22,
   "id": "949be0e6",
   "metadata": {},
   "outputs": [],
   "source": [
    "class reviw_feedback(BaseModel):\n",
    "  review:bool=Field(description=\"Whether the ad is good or not\")"
   ]
  },
  {
   "cell_type": "code",
   "execution_count": 23,
   "id": "3fc9ee32",
   "metadata": {},
   "outputs": [],
   "source": [
    "llm_new=llm.with_structured_output(reviw_feedback)\n"
   ]
  },
  {
   "cell_type": "code",
   "execution_count": 24,
   "id": "19b3623b",
   "metadata": {},
   "outputs": [],
   "source": [
    "polished=\"often the best way to learn is by doing\""
   ]
  },
  {
   "cell_type": "code",
   "execution_count": 26,
   "id": "9a75ec71",
   "metadata": {},
   "outputs": [],
   "source": [
    "prompt=review_prompt.format(polished_ad=polished)\n",
    "llm_new=llm.with_structured_output(reviw_feedback)\n",
    "is_ok = llm_new.invoke(prompt)\n"
   ]
  },
  {
   "cell_type": "code",
   "execution_count": 28,
   "id": "30df1896",
   "metadata": {},
   "outputs": [
    {
     "data": {
      "text/plain": [
       "True"
      ]
     },
     "execution_count": 28,
     "metadata": {},
     "output_type": "execute_result"
    }
   ],
   "source": [
    "is_ok.review"
   ]
  },
  {
   "cell_type": "code",
   "execution_count": 33,
   "id": "adbca127",
   "metadata": {},
   "outputs": [],
   "source": [
    "def polish_node(state):\n",
    "    text = state[\"polished_ad\"] if state.get(\"polished_ad\") else state[\"initial_ad\"]\n",
    "    feedback = state.get(\"feed_back\", \"\")\n",
    "    prompt=add_writer_prompt.format(initial_ad=text,feedback=feedback)\n",
    "    polished = llm.invoke(prompt)\n",
    "    state[\"polished_ad\"] = polished.content\n",
    "    return state\n",
    "\n",
    "def review_node(state):\n",
    "    polished = state[\"polished_ad\"]\n",
    "    prompt=review_prompt.format(polished_ad=polished,tone=state[\"tone\"],platform=state[\"platform\"])\n",
    "    llm_new=llm.with_structured_output(reviw_feedback)\n",
    "    is_ok = llm_new.invoke(prompt).review\n",
    "    state[\"is_ok\"] = is_ok\n",
    "    return state\n",
    "\n",
    "def feedback_node(state):\n",
    "    polished = state[\"polished_ad\"]\n",
    "    prompt=feedback_prompt.format(polished_ad=polished)\n",
    "    feedback = llm.invoke(prompt).content\n",
    "    state[\"feed_back\"] = feedback\n",
    "    return state\n"
   ]
  },
  {
   "cell_type": "code",
   "execution_count": 34,
   "id": "c5cf66be",
   "metadata": {},
   "outputs": [],
   "source": [
    "from langgraph.graph import StateGraph, END\n",
    "\n",
    "def build_graph():\n",
    "    graph = StateGraph(dict)\n",
    "    graph.add_node(\"polish\", polish_node)\n",
    "    graph.add_node(\"review\", review_node)\n",
    "    graph.add_node(\"feedback\", feedback_node)\n",
    "\n",
    "    # Edges\n",
    "    graph.add_edge(\"polish\", \"review\")\n",
    "    graph.add_conditional_edges(\n",
    "        \"review\",\n",
    "        lambda state: \"end\" if state[\"is_ok\"] else \"feedback\",\n",
    "        {\"end\": END, \"feedback\": \"feedback\"}\n",
    "    )\n",
    "    graph.add_edge(\"feedback\", \"polish\")\n",
    "\n",
    "    graph.set_entry_point(\"polish\")\n",
    "    return graph.compile()\n"
   ]
  },
  {
   "cell_type": "code",
   "execution_count": 35,
   "id": "2580a9cc",
   "metadata": {},
   "outputs": [
    {
     "name": "stdout",
     "output_type": "stream",
     "text": [
      "Final polished ad: Thank you for the opportunity to rewrite the ad. Based on the original ad, I understand that the tone is casual and attention-grabbing, and the platform is likely social media or a website. Here's a rewritten ad that maintains the same tone and platform:\n",
      "\n",
      "KICK IT UP A NOTCH!\n",
      "\n",
      "Sole Searching? Look no further!\n",
      "\n",
      "We're throwing a shoe-tastic sale! Get ready to step up your shoe game with our unbeatable prices! From sleek sneakers to stylish stilettos, our collection has got you covered.\n",
      "\n",
      "Limited time offer! Don't miss out on this chance to elevate your shoe wardrobe without breaking the bank. Visit us now and get ready to kick it up a notch!\n",
      "\n",
      "Feedback on the original ad:\n",
      "\n",
      "* The ad is short and to the point, but it lacks creativity and attention-grabbing elements.\n",
      "* It's a good idea to highlight the \"best prices\" but it would be more effective to specify what makes the prices unbeatable.\n",
      "* Adding a sense of urgency with a limited-time offer can encourage customers to take action.\n",
      "\n",
      "In my rewritten ad, I've added a playful tone with a pun (\"Sole Searching?\") and a sense of excitement with \"shoe-tastic sale!\" and \"elevate your shoe wardrobe.\" I've also included a call-to-action (\"Visit us now\") to encourage customers to take action. Additionally, I've specified what makes the prices unbeatable (\"unbeatable prices!\") and added a sense of urgency with a limited-time offer.\n"
     ]
    }
   ],
   "source": [
    "state = {\n",
    "    \"initial_ad\": \"Big Sale! Best prices on shoes. Visit now!\",\n",
    "    \"tone\": \"fun\",\n",
    "    \"platform\": \"Instagram\",\n",
    "    \"polished_ad\": \"\",\n",
    "    \"is_ok\": False,\n",
    "    \"feed_back\": \"\",\n",
    "}\n",
    "graph = build_graph()\n",
    "final_state = graph.invoke(state)\n",
    "print(\"Final polished ad:\", final_state[\"polished_ad\"])"
   ]
  },
  {
   "cell_type": "code",
   "execution_count": null,
   "id": "9fbd828e",
   "metadata": {},
   "outputs": [],
   "source": []
  }
 ],
 "metadata": {
  "kernelspec": {
   "display_name": ".venv",
   "language": "python",
   "name": "python3"
  },
  "language_info": {
   "codemirror_mode": {
    "name": "ipython",
    "version": 3
   },
   "file_extension": ".py",
   "mimetype": "text/x-python",
   "name": "python",
   "nbconvert_exporter": "python",
   "pygments_lexer": "ipython3",
   "version": "3.10.15"
  }
 },
 "nbformat": 4,
 "nbformat_minor": 5
}
